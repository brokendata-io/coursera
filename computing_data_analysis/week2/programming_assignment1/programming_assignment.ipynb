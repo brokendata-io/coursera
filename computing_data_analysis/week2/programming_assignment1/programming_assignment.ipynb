{
 "metadata": {
  "name": "programming_assignment"
 },
 "nbformat": 3,
 "nbformat_minor": 0,
 "worksheets": [
  {
   "cells": [
    {
     "cell_type": "code",
     "collapsed": false,
     "input": "import pandas as pd\nimport numpy as np\nimport scipy",
     "language": "python",
     "metadata": {},
     "outputs": [],
     "prompt_number": 266
    },
    {
     "cell_type": "heading",
     "level": 4,
     "metadata": {},
     "source": "Programming Assignment 2 in Python"
    },
    {
     "cell_type": "markdown",
     "metadata": {},
     "source": "Note: id is a reserved word in python, corresponding to the id() function (not the case in python 3+)"
    },
    {
     "cell_type": "code",
     "collapsed": false,
     "input": "def getmonitor(fname, directory = \"\", summary = False): \n    \"\"\"Returns a data frame for the passed in id, the id coresponds to \n       a file in the directory, if summary is True, summary statistics will be returned \n    \"\"\"\n    \n    fname = int(fname)\n    if fname <10: \n        fname = \"00%d.csv\" % fname                                                #could have just globbed the files in the directory but in keeping with the lectures...\n    elif (fname >=10) & (fname <100): \n        fname = \"0%d.csv\" % fname\n    else: \n        fname = \"%d.csv\" % fname\n    \n    directory = directory + \"/\" \n    path = directory + fname\n    \n    \n    df = pd.read_csv(path)\n    if summary == True: \n        return df.describe()\n    return df",
     "language": "python",
     "metadata": {},
     "outputs": [],
     "prompt_number": 190
    },
    {
     "cell_type": "code",
     "collapsed": false,
     "input": "def complete_cases(directory, fname=range(1,332)):\n    \"\"\" Returns a pd.DataFrame of filnames and nobs. Default will return a frame of all files.   \n    Accepts: scalar value, list of values,range of values\n         \n    Example: \n\n    complete_cases('specdata', [1,20,31,50]) \n    \"\"\"\n    data = {\"ID\":[],                                          #data structure to be converted to a DataFrame. See: http://stackoverflow.com/questions/16597265/appending-to-an-empty-data-frame-in-pandas\n            \"nobs\":[]}\n    \n                                                              # you can not append directly to a pandas data frame, we need to create the columns as empty dictionarys, where the key is the column name,\n                                                              # and the value is a list of the cells \n    for i in fname: \n        df = getmonitor(fname = i, directory = directory)\n        df_clean = df.dropna()\n        nobs = len(df_clean)\n        data['ID'].append(i)\n        data['nobs'].append(nobs) \n    \n    df_cc = pd.DataFrame(data)\n   \n    return df_cc\n    \n    \n    ",
     "language": "python",
     "metadata": {},
     "outputs": [],
     "prompt_number": 211
    },
    {
     "cell_type": "code",
     "collapsed": false,
     "input": "def corr(directory, threshold = 0): \n    \"\"\" directory is a character vector of length 1 indicating\n   the location of the CSV files\n   'threshold' is a numeric vector of length 1 indicating the\n   number of completely observed observations (on all\n   variables) required to compute the correlation between\n   nitrate and sulfate; the default is 0\n   Returns a list of correlations \n   \"\"\"\n    \n    df_cc = complete_cases('specdata')                                #returns a dataframe of all complte cases counts, columns =  (ID, nobs) \n    files = df_cc['ID'][df_cc['nobs'] > threshold]                    #returns a pd.Series of all the file_ids that have nobs of a certain threshold. [similar to numpy array] \n    \n    corrs = [] \n    \n    for i in files:\n        df = getmonitor(i,'specdata')   \n        df_clean = df.dropna() \n        _cor = scipy.stats.pearsonr(df_clean['sulfate'],df_clean['nitrate'])\n        corrs.append(_cor[0])                                          #the stats.pearsonr functionr returns a tuple, the number we are interested is at the [0] index\n    return corrs\n        ",
     "language": "python",
     "metadata": {},
     "outputs": [],
     "prompt_number": 261
    },
    {
     "cell_type": "heading",
     "level": 4,
     "metadata": {},
     "source": "Function tests:"
    },
    {
     "cell_type": "code",
     "collapsed": false,
     "input": "test = getmonitor(directory='specdata',fname = 1,)\ntest.head()",
     "language": "python",
     "metadata": {},
     "outputs": [
      {
       "html": "<div style=\"max-height:1000px;max-width:1500px;overflow:auto;\">\n<table border=\"1\" class=\"dataframe\">\n  <thead>\n    <tr style=\"text-align: right;\">\n      <th></th>\n      <th>Date</th>\n      <th>sulfate</th>\n      <th>nitrate</th>\n      <th>ID</th>\n    </tr>\n  </thead>\n  <tbody>\n    <tr>\n      <th>0</th>\n      <td> 2003-01-01</td>\n      <td>NaN</td>\n      <td>NaN</td>\n      <td> 1</td>\n    </tr>\n    <tr>\n      <th>1</th>\n      <td> 2003-01-02</td>\n      <td>NaN</td>\n      <td>NaN</td>\n      <td> 1</td>\n    </tr>\n    <tr>\n      <th>2</th>\n      <td> 2003-01-03</td>\n      <td>NaN</td>\n      <td>NaN</td>\n      <td> 1</td>\n    </tr>\n    <tr>\n      <th>3</th>\n      <td> 2003-01-04</td>\n      <td>NaN</td>\n      <td>NaN</td>\n      <td> 1</td>\n    </tr>\n    <tr>\n      <th>4</th>\n      <td> 2003-01-05</td>\n      <td>NaN</td>\n      <td>NaN</td>\n      <td> 1</td>\n    </tr>\n  </tbody>\n</table>\n</div>",
       "output_type": "pyout",
       "prompt_number": 258,
       "text": "         Date  sulfate  nitrate  ID\n0  2003-01-01      NaN      NaN   1\n1  2003-01-02      NaN      NaN   1\n2  2003-01-03      NaN      NaN   1\n3  2003-01-04      NaN      NaN   1\n4  2003-01-05      NaN      NaN   1"
      }
     ],
     "prompt_number": 258
    },
    {
     "cell_type": "code",
     "collapsed": false,
     "input": "test2 = getmonitor(directory='specdata',fname = 1,summary = True)\ntest2.head()",
     "language": "python",
     "metadata": {},
     "outputs": [
      {
       "html": "<div style=\"max-height:1000px;max-width:1500px;overflow:auto;\">\n<table border=\"1\" class=\"dataframe\">\n  <thead>\n    <tr style=\"text-align: right;\">\n      <th></th>\n      <th>sulfate</th>\n      <th>nitrate</th>\n      <th>ID</th>\n    </tr>\n  </thead>\n  <tbody>\n    <tr>\n      <th>count</th>\n      <td> 117.000000</td>\n      <td> 122.000000</td>\n      <td> 1461</td>\n    </tr>\n    <tr>\n      <th>mean</th>\n      <td>   3.880701</td>\n      <td>   0.549910</td>\n      <td>    1</td>\n    </tr>\n    <tr>\n      <th>std</th>\n      <td>   2.831156</td>\n      <td>   0.380921</td>\n      <td>    0</td>\n    </tr>\n    <tr>\n      <th>min</th>\n      <td>   0.613000</td>\n      <td>   0.118000</td>\n      <td>    1</td>\n    </tr>\n    <tr>\n      <th>25%</th>\n      <td>   2.210000</td>\n      <td>   0.283500</td>\n      <td>    1</td>\n    </tr>\n  </tbody>\n</table>\n</div>",
       "output_type": "pyout",
       "prompt_number": 264,
       "text": "          sulfate     nitrate    ID\ncount  117.000000  122.000000  1461\nmean     3.880701    0.549910     1\nstd      2.831156    0.380921     0\nmin      0.613000    0.118000     1\n25%      2.210000    0.283500     1"
      }
     ],
     "prompt_number": 264
    },
    {
     "cell_type": "code",
     "collapsed": false,
     "input": "df_test3 = complete_cases('specdata')\ndf_test3.head()\n",
     "language": "python",
     "metadata": {},
     "outputs": [
      {
       "html": "<div style=\"max-height:1000px;max-width:1500px;overflow:auto;\">\n<table border=\"1\" class=\"dataframe\">\n  <thead>\n    <tr style=\"text-align: right;\">\n      <th></th>\n      <th>ID</th>\n      <th>nobs</th>\n    </tr>\n  </thead>\n  <tbody>\n    <tr>\n      <th>0</th>\n      <td> 1</td>\n      <td>  117</td>\n    </tr>\n    <tr>\n      <th>1</th>\n      <td> 2</td>\n      <td> 1041</td>\n    </tr>\n    <tr>\n      <th>2</th>\n      <td> 3</td>\n      <td>  243</td>\n    </tr>\n    <tr>\n      <th>3</th>\n      <td> 4</td>\n      <td>  474</td>\n    </tr>\n    <tr>\n      <th>4</th>\n      <td> 5</td>\n      <td>  402</td>\n    </tr>\n  </tbody>\n</table>\n</div>",
       "output_type": "pyout",
       "prompt_number": 259,
       "text": "   ID  nobs\n0   1   117\n1   2  1041\n2   3   243\n3   4   474\n4   5   402"
      }
     ],
     "prompt_number": 259
    },
    {
     "cell_type": "code",
     "collapsed": false,
     "input": "\ndf_test4 = complete_cases('specdata', [1,4,6])\ndf_test4.head()",
     "language": "python",
     "metadata": {},
     "outputs": []
    },
    {
     "cell_type": "code",
     "collapsed": false,
     "input": "correlations_test1 = corr('specdata',threshold=800)\nprint correlations",
     "language": "python",
     "metadata": {},
     "outputs": [
      {
       "output_type": "stream",
       "stream": "stdout",
       "text": "[-0.018957540970254896, -0.15782860340392174, 0.25905717763627462, 0.057741676044999808, -0.033091304193014093, -0.14620213640558838, -0.042533572499451722, 0.098073855118855718, 0.03666592068378452, 0.34742156896493975, 0.23198439913390501, 0.27590363409427815, 0.08521742335508152, 0.041917772893683196, 0.42479895588622713, 0.36172843379810554, -0.035090337102602003, -0.05300116175223088, 0.29579369906060393, 0.016535642886678924, -0.074495323110874839, 0.19014197644942188, 0.10955732318085501, 0.046211272087154955, -0.060808230976110253, 0.16086505271989343, 0.59834333035356613, 0.19183481143902173, 0.51882017329150754, 0.25397807542282119, 0.26878049997000669]\n"
      }
     ],
     "prompt_number": 268
    },
    {
     "cell_type": "code",
     "collapsed": false,
     "input": "correlations_test2 = corr('specdata',threshold=200)",
     "language": "python",
     "metadata": {},
     "outputs": [],
     "prompt_number": 269
    }
   ],
   "metadata": {}
  }
 ]
}